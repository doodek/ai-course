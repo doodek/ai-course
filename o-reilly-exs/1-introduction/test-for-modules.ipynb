{
 "metadata": {
  "language_info": {
   "codemirror_mode": {
    "name": "ipython",
    "version": 3
   },
   "file_extension": ".py",
   "mimetype": "text/x-python",
   "name": "python",
   "nbconvert_exporter": "python",
   "pygments_lexer": "ipython3",
   "version": "3.8.5-final"
  },
  "orig_nbformat": 2,
  "kernelspec": {
   "name": "python3",
   "display_name": "Python 3",
   "language": "python"
  }
 },
 "nbformat": 4,
 "nbformat_minor": 2,
 "cells": [
  {
   "cell_type": "code",
   "execution_count": null,
   "metadata": {},
   "outputs": [],
   "source": [
    "import sys\n",
    "print(\"Python version: {}\".format(sys.version))\n",
    "import pandas as pd\n",
    "print(\"pandas version: {}\".format(pd.__version__))\n",
    "import matplotlib\n",
    "print(\"matplotlib version: {}\".format(matplotlib.__version__))\n",
    "import numpy as np\n",
    "print(\"NumPy version: {}\".format(np.__version__))\n",
    "import scipy as sp\n",
    "print(\"SciPy version: {}\".format(sp.__version__))\n",
    "import IPython\n",
    "print(\"IPython version: {}\".format(IPython.__version__))\n",
    "import sklearn\n",
    "print(\"scikit-learn version: {}\".format(sklearn.__version__))"
   ]
  }
 ]
}