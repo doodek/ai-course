{
 "metadata": {
  "language_info": {
   "codemirror_mode": {
    "name": "ipython",
    "version": 3
   },
   "file_extension": ".py",
   "mimetype": "text/x-python",
   "name": "python",
   "nbconvert_exporter": "python",
   "pygments_lexer": "ipython3",
   "version": "3.9.2-final"
  },
  "orig_nbformat": 2,
  "kernelspec": {
   "name": "python39264bit3e6ae07f413f4034b8aa05e17946a0b4",
   "display_name": "Python 3.9.2 64-bit"
  }
 },
 "nbformat": 4,
 "nbformat_minor": 2,
 "cells": [
  {
   "source": [],
   "cell_type": "markdown",
   "metadata": {}
  },
  {
   "source": [
    "# Classifying iris species\n",
    "\n",
    "My exploration of first example from [Muller16].\n",
    "\n",
    "A group of iris have been measured in such specifications: There are 3 species: _setosa, versicolor, virginica_, classified by the dimensions of petal and sepal\n",
    "\n",
    "## Theory notes:\n",
    "\n",
    "* supervised learning task - the dataset was tagged\n",
    "* classification problem - assigning object to a class\n",
    "* classes - the species of iris\n",
    "* label - the species of a single iris\n",
    "* X - the data     X - 2 dim array\n",
    "* y - label        y=f(X)\n",
    "* Training set - the set on which it learns on known answers\n",
    "* Test set - the set on which predictions are guessed, then compared to  real values\n",
    "* KNN - k-Nearest Neigbors algorithm --- predicts from the \"most similar\" known match(es)\n",
    "* Scatter plot \n",
    "\n",
    "\n"
   ],
   "cell_type": "markdown",
   "metadata": {}
  },
  {
   "cell_type": "code",
   "execution_count": null,
   "metadata": {},
   "outputs": [],
   "source": [
    "import numpy as np \n",
    "import pandas as pd\n",
    "import matplotlib.pyplot as plt \n",
    "import mglearn\n",
    "\n",
    "from sklearn.datasets import load_iris\n",
    "iris_dataset = load_iris() # this object contains th whole dataset - keys and values"
   ]
  },
  {
   "cell_type": "code",
   "execution_count": null,
   "metadata": {},
   "outputs": [],
   "source": [
    "print(\"Keys of the iris datased: \\n {}\".format(iris_dataset.keys()))\n"
   ]
  },
  {
   "cell_type": "code",
   "execution_count": null,
   "metadata": {},
   "outputs": [],
   "source": [
    "print(iris_dataset['DESCR'] + \"\\n\")"
   ]
  },
  {
   "source": [
    "## Split the dataset into training and test sets (3:1).\n",
    "\n"
   ],
   "cell_type": "markdown",
   "metadata": {}
  },
  {
   "cell_type": "code",
   "execution_count": null,
   "metadata": {},
   "outputs": [],
   "source": [
    "from sklearn.model_selection import train_test_split\n",
    "X_train, X_test, y_train, y_test = train_test_split(iris_dataset['data'], iris_dataset['target'], random_state=0)\n",
    "\n",
    "print(\"X_train shape: {}\".format(X_train.shape))\n",
    "print(\"y_train shape: {}\".format(y_train.shape))\n",
    "print(\"X_test shape: {}\".format(X_test.shape))\n",
    "print(\"y_test shape: {}\".format(y_test.shape))\n"
   ]
  },
  {
   "source": [
    "## Scatter plot\n",
    "\n",
    "The dataset is converted into Pandas dataframe, which then is converted into a scatter_matrix, shown below.\n",
    "The colors indicate the label."
   ],
   "cell_type": "markdown",
   "metadata": {}
  },
  {
   "cell_type": "code",
   "execution_count": null,
   "metadata": {},
   "outputs": [],
   "source": [
    "\n",
    " iris_dataframe = pd.DataFrame(X_train, columns=iris_dataset.feature_names)\n",
    " scatter = pd.plotting.scatter_matrix(iris_dataframe, c=y_train, figsize=(15,15), marker='o', hist_kwds={'bins': 20}, s=60, alpha=.8, cmap=mglearn.cm3)"
   ]
  },
  {
   "source": [
    "## k-Nearest Neighbors predictions\n"
   ],
   "cell_type": "markdown",
   "metadata": {}
  },
  {
   "cell_type": "code",
   "execution_count": null,
   "metadata": {},
   "outputs": [],
   "source": [
    "from sklearn.neighbors import KNeighborsClassifier\n",
    "knn = KNeighborsClassifier(n_neighbors=1)\n",
    "knn.fit(X_train, y_train)\n",
    "y_pred = knn.predict(X_test)\n",
    "print(\"Test predictions: \\n {}\".format(y_pred))\n",
    "print(\"Score: {:.2f}\".format(knn.score(X_test, y_test)))"
   ]
  }
 ]
}